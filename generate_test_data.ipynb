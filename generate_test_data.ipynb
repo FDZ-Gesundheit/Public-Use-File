{
 "cells": [
  {
   "cell_type": "markdown",
   "metadata": {},
   "source": [
    "## Testdaten"
   ]
  },
  {
   "cell_type": "markdown",
   "metadata": {},
   "source": [
    "Mit diesem Skript werden die Testdaten zum Erzeugen des PUFs generiert. Durch das Skript werden die Dateien `fdz_generated_data_dm12.db` und die `.csv`-Dateien im Verzeichnis `test_data/csv/` erzeugt und falls bereits vorhanden überschrieben."
   ]
  },
  {
   "cell_type": "markdown",
   "metadata": {},
   "source": [
    "### Fehler in den erzeugten Daten\n",
    "- VSID ist immer == PSID (eigentlich anderes Format und eine PSID kann mehere VSID haben)\n",
    "- KV_NR_Kennzeichen ist konstant 1\n",
    "- SA451 ANZAHLEINHEITENFAKTOR ist konstant 100\n",
    "- SA651 und SA551 Diagnose sind == ICD_CODE, keine Punktnotation und keine Sonderzeichen\n",
    "- SA651 und SA551 ICD_Zusatz ist immer leer\n",
    "- Zu kleine Spanne bei SA751\n",
    "- Keine echten PLZ\n",
    "- Jede Variable für sich generiert, keine Abhängigkeiten, keine sinnvollen zusammenhänge\n"
   ]
  },
  {
   "cell_type": "code",
   "execution_count": 28,
   "metadata": {
    "ExecuteTime": {
     "end_time": "2024-07-08T12:48:27.668546Z",
     "start_time": "2024-07-08T12:48:27.666564Z"
    }
   },
   "outputs": [],
   "source": [
    "n = 1000"
   ]
  },
  {
   "cell_type": "markdown",
   "metadata": {},
   "source": [
    "Tabellenfaktoren:\n",
    "- SA151, SA152,SA153, SA751, SA951, SA999, SA131: 1\n",
    "- SA451: 10\n",
    "- SA551: 2\n",
    "- SA651: 25"
   ]
  },
  {
   "cell_type": "code",
   "execution_count": 29,
   "metadata": {
    "ExecuteTime": {
     "end_time": "2024-07-08T12:48:27.688645Z",
     "start_time": "2024-07-08T12:48:27.686708Z"
    }
   },
   "outputs": [],
   "source": [
    "import pandas as pd\n",
    "import random\n",
    "import numpy as np\n",
    "import string\n",
    "import sqlalchemy\n",
    "import os\n",
    "from sqlalchemy import Table, MetaData, text\n",
    "from sqlalchemy.schema import DropTable\n",
    "import simple_icd_10 as icd"
   ]
  },
  {
   "cell_type": "code",
   "execution_count": 30,
   "metadata": {
    "ExecuteTime": {
     "end_time": "2024-07-08T12:48:27.703970Z",
     "start_time": "2024-07-08T12:48:27.702239Z"
    }
   },
   "outputs": [],
   "source": [
    "if not os.path.exists(\"test_data\"):\n",
    "    os.mkdir(\"test_data\")\n",
    "if not os.path.exists(\"test_data/csv\"):\n",
    "    os.mkdir(\"test_data/csv\")"
   ]
  },
  {
   "cell_type": "code",
   "execution_count": 31,
   "metadata": {
    "ExecuteTime": {
     "end_time": "2024-07-08T12:48:27.706767Z",
     "start_time": "2024-07-08T12:48:27.704737Z"
    }
   },
   "outputs": [],
   "source": [
    "engine = sqlalchemy.create_engine(\"sqlite+pysqlite:///test_data/fdz_generated_data_dm12.db\")\n",
    "conn = engine.connect()"
   ]
  },
  {
   "cell_type": "code",
   "execution_count": 32,
   "metadata": {
    "collapsed": false,
    "ExecuteTime": {
     "end_time": "2024-07-08T12:48:27.720393Z",
     "start_time": "2024-07-08T12:48:27.707588Z"
    }
   },
   "outputs": [],
   "source": [
    "insp = sqlalchemy.inspect(engine)\n",
    "tables = insp.get_table_names()\n",
    "for table in tables:\n",
    "    conn.execute(DropTable(Table(table, MetaData())))\n",
    "\n",
    "with open(\"create_tables.sql\", \"r\") as f_tables:\n",
    "    sql_create_tables = f_tables.read().format(prefix=\"VBJ\", receiving_year=2016,\n",
    "                                               clearing_year=2016 - 1,\n",
    "                                               schema=\"puf\")\n",
    "for statement in sql_create_tables.split(\";\"):\n",
    "    conn.execute(text(statement))\n",
    "conn.commit()"
   ]
  },
  {
   "cell_type": "markdown",
   "metadata": {},
   "source": [
    "# Pseudonyme"
   ]
  },
  {
   "cell_type": "code",
   "execution_count": 33,
   "metadata": {
    "ExecuteTime": {
     "end_time": "2024-07-08T12:48:27.723632Z",
     "start_time": "2024-07-08T12:48:27.721336Z"
    }
   },
   "outputs": [],
   "source": [
    "POSSIBLE_CHARACTERS = string.ascii_uppercase + string.ascii_lowercase + string.digits\n",
    "\n",
    "def generate_pseudonym(length=19):\n",
    "    return ''.join(random.choices(POSSIBLE_CHARACTERS, k=length))\n",
    "\n",
    "def generate_pseudonym_array(n_out, length = 19):\n",
    "    return np.array([generate_pseudonym(length=length) for _ in range(n_out)])\n",
    "\n",
    "\n"
   ]
  },
  {
   "cell_type": "code",
   "execution_count": 34,
   "metadata": {
    "ExecuteTime": {
     "end_time": "2024-07-08T12:48:27.726902Z",
     "start_time": "2024-07-08T12:48:27.724286Z"
    }
   },
   "outputs": [],
   "source": [
    "psid_array = generate_pseudonym_array(n_out=n)"
   ]
  },
  {
   "cell_type": "code",
   "execution_count": 35,
   "metadata": {
    "ExecuteTime": {
     "end_time": "2024-07-08T12:48:27.730684Z",
     "start_time": "2024-07-08T12:48:27.728126Z"
    }
   },
   "outputs": [],
   "source": [
    "def generate_sa151(n_out, psid_array, year = 2016):\n",
    "\n",
    "    return pd.DataFrame(    {\n",
    "        \"SA151_SATZART\": \"SA151\",\n",
    "    \"SA151_BERICHTSJAHR\": year,\n",
    "    \"SA151_AUSGLEICHSJAHR\": year,\n",
    "    \"SA151_VSID\": psid_array, # Müsste anderes Format sein\n",
    "    \"SA151_PSID\": psid_array,\n",
    "    \"SA151_KV_NR_KENNZEICHEN\": 1, # Kann in der realität auch 0 sein\n",
    "    \"SA151_GEBURTSJAHR\": np.array([np.random.choice(range(1930, year)) for _ in range(n_out)]),\n",
    "    \"SA151_GESCHLECHT\": np.array([np.random.choice([1, 2, 3, 4], p=[0.49, 0.49, 0.01, 0.01]) for _ in range(n_out)]),\n",
    "    \"SA151_VERSICHERTENTAGE\": np.array([np.random.choice([365, np.random.choice(range(1, 364))], p = [0.95, 0.05]) for _ in range(n_out)]),\n",
    "    \"SA151_VERSTORBEN\": np.array([np.random.choice([0, 1], p=[0.95, 0.05]) for _ in range(n_out)]),\n",
    "    \"SA151_VERSICHERTENTAGEKG\": np.array([np.random.choice([0, np.random.choice(range(1, 365))], p = [0.9, 0.1]) for _ in range(n_out)])\n",
    "    })"
   ]
  },
  {
   "cell_type": "code",
   "execution_count": 36,
   "metadata": {
    "ExecuteTime": {
     "end_time": "2024-07-08T12:48:27.803498Z",
     "start_time": "2024-07-08T12:48:27.731316Z"
    }
   },
   "outputs": [
    {
     "data": {
      "text/plain": "1000"
     },
     "execution_count": 36,
     "metadata": {},
     "output_type": "execute_result"
    }
   ],
   "source": [
    "sa151 = generate_sa151(n_out = n, psid_array=psid_array)\n",
    "\n",
    "sa151.to_csv(\"test_data/csv/sa151.csv\", index=False)\n",
    "sa151.to_sql(\"VBJ2016SA151\", con = conn, if_exists='append', index=False)\n"
   ]
  },
  {
   "cell_type": "code",
   "execution_count": 37,
   "metadata": {
    "ExecuteTime": {
     "end_time": "2024-07-08T12:48:27.806392Z",
     "start_time": "2024-07-08T12:48:27.804175Z"
    }
   },
   "outputs": [],
   "source": [
    "def generate_sa152(n_out, psid_array, year = 2016):\n",
    "    return pd.DataFrame(\n",
    "        {\n",
    "               \"SA152_SATZART\": \"SA152\",\n",
    "    \"SA152_AUSGLEICHSJAHR\": year,\n",
    "    \"SA152_BERICHTSJAHR\": year, \n",
    "    \"SA152_VSID\": psid_array, # Hat eigentlich eine andere Struktur\n",
    "    \"SA152_PSID\": psid_array,\n",
    "    \"SA152_KV_NR_KENNZEICHEN\": 1, # Kann eigentlich auch 0 sein\n",
    "    \"SA152_ERWERBSMINDERUNGS_VT\": np.array([np.random.choice([0, np.random.choice(range(1, 365))], p = [0.9, 0.1]) for _ in range(n_out)]),\n",
    "    \"SA152_VERSICHERTENTAGEAUSLAND\": np.array([np.random.choice([0, np.random.choice(range(1, 365))], p = [0.9, 0.1]) for _ in range(n_out)]),\n",
    "    \"SA152_VERSICHERTENTAGE13II\": np.array([np.random.choice([0, np.random.choice(range(1, 365))], p = [0.9, 0.1]) for _ in range(n_out)]),\n",
    "    \"SA152_VERSICHERTENTAGE53IV\": np.array([np.random.choice([0, np.random.choice(range(1, 365))], p = [0.9, 0.1]) for _ in range(n_out)])\n",
    "        }\n",
    "    )"
   ]
  },
  {
   "cell_type": "code",
   "execution_count": 38,
   "metadata": {
    "ExecuteTime": {
     "end_time": "2024-07-08T12:48:27.904798Z",
     "start_time": "2024-07-08T12:48:27.807067Z"
    }
   },
   "outputs": [
    {
     "data": {
      "text/plain": "1000"
     },
     "execution_count": 38,
     "metadata": {},
     "output_type": "execute_result"
    }
   ],
   "source": [
    "sa152 = generate_sa152(n_out = n, psid_array=psid_array)\n",
    "\n",
    "sa152.to_csv(\"test_data/csv/sa152.csv\", index=False)\n",
    "sa152.to_sql(\"VBJ2016SA152\", con = conn, if_exists='append', index=False)"
   ]
  },
  {
   "cell_type": "code",
   "execution_count": 39,
   "metadata": {
    "ExecuteTime": {
     "end_time": "2024-07-08T12:48:27.907160Z",
     "start_time": "2024-07-08T12:48:27.905376Z"
    }
   },
   "outputs": [],
   "source": [
    "def generate_sa153(n_out, psid_array, year = 2016):\n",
    "    return pd.DataFrame(\n",
    "        {\n",
    "            \"SA153_SATZART\": \"SA153\",\n",
    "    \"SA153_AUSGLEICHSJAHR\": year,\n",
    "    \"SA153_BERICHTSJAHR\": year,\n",
    "    \"SA153_VSID\": psid_array,\n",
    "    \"SA153_PSID\": psid_array,\n",
    "    \"SA153_KV_NR_KENNZEICHEN\": 1,\n",
    "    \"SA153_EXTRABLUTREINIGUNG\": np.array([np.random.choice([0, 1], p=[0.95, 0.05]) for _ in range(n_out)])\n",
    "        }\n",
    "    )"
   ]
  },
  {
   "cell_type": "code",
   "execution_count": 40,
   "metadata": {
    "ExecuteTime": {
     "end_time": "2024-07-08T12:48:27.924809Z",
     "start_time": "2024-07-08T12:48:27.908834Z"
    }
   },
   "outputs": [
    {
     "data": {
      "text/plain": "1000"
     },
     "execution_count": 40,
     "metadata": {},
     "output_type": "execute_result"
    }
   ],
   "source": [
    "sa153 = generate_sa153(n_out=n, psid_array=psid_array)\n",
    "\n",
    "sa153.to_csv(\"test_data/csv/sa153.csv\", index=False)\n",
    "sa153.to_sql(\"VBJ2016SA153\", con = conn, if_exists='append', index=False)"
   ]
  },
  {
   "cell_type": "code",
   "execution_count": 41,
   "metadata": {
    "ExecuteTime": {
     "end_time": "2024-07-08T12:48:27.927464Z",
     "start_time": "2024-07-08T12:48:27.925325Z"
    }
   },
   "outputs": [],
   "source": [
    "def generate_sa451(n_out, psid_array, year = 2016):\n",
    "\n",
    "    month = pd.Series(np.array([np.random.choice(range(1, 12)) for _ in range(n_out)]), dtype=\"string\").str.pad(2, fillchar='0')\n",
    "    day = pd.Series(np.array([np.random.choice(range(1, 28)) for _ in range(n_out)]), dtype=\"string\").str.pad(2, fillchar='0') # Valides Datum, aber nie 29 bis 31\n",
    "    ids = np.random.choice(psid_array, size = n_out, replace = True)\n",
    "    \n",
    "    return pd.DataFrame(\n",
    "        {\n",
    "    \"SA451_SATZART\": \"SA451\",\n",
    "    \"SA451_AUSGLEICHSJAHR\": year,\n",
    "    \"SA451_BERICHTSJAHR\": year,\n",
    "    \"SA451_VSID\": ids,\n",
    "    \"SA451_PSID\": ids,\n",
    "    \"SA451_VERORDNUNGSDATUM\":  str(year) + month + day,\n",
    "    \"SA451_PHARMAZENTRALNUMMER\": np.array([''.join(random.choices(string.digits, k=8)) for _ in range(n_out)]),\n",
    "    \"SA451_ANZAHLEINHEITENFAKTOR\": 100 #Normalerweise nicht konstant\n",
    "        }\n",
    "    )\n"
   ]
  },
  {
   "cell_type": "code",
   "execution_count": 42,
   "metadata": {
    "ExecuteTime": {
     "end_time": "2024-07-08T12:48:28.102436Z",
     "start_time": "2024-07-08T12:48:27.927896Z"
    }
   },
   "outputs": [
    {
     "data": {
      "text/plain": "10000"
     },
     "execution_count": 42,
     "metadata": {},
     "output_type": "execute_result"
    }
   ],
   "source": [
    "sa451 = generate_sa451(n_out=n*10, psid_array=psid_array)\n",
    "\n",
    "sa451.to_csv(\"test_data/csv/sa451.csv\", index=False)\n",
    "sa451.to_sql(\"VBJ2016SA451\", con = conn, if_exists='append', index=False)"
   ]
  },
  {
   "cell_type": "code",
   "execution_count": 43,
   "metadata": {
    "ExecuteTime": {
     "end_time": "2024-07-08T12:48:28.105769Z",
     "start_time": "2024-07-08T12:48:28.103067Z"
    }
   },
   "outputs": [],
   "source": [
    "def generate_sa551(n_out, psid_array, year = 2016):\n",
    "\n",
    "    month = pd.Series(np.array([np.random.choice(range(1, 12)) for _ in range(n_out)]), dtype=\"string\").str.pad(2, fillchar='0')\n",
    "    ids = np.random.choice(psid_array, size = n_out, replace = True)\n",
    "    icd_codes = pd.Series(np.array([np.random.choice(icd.get_all_codes(with_dots = False)) for _ in range(n_out)]), dtype=\"string\")\n",
    "    icd_zusatz = pd.Series([''], dtype=\"string\") # Ist in der realität nicht immer leer\n",
    "    sa551 = pd.DataFrame(\n",
    "        {\n",
    "                \"SA551_SATZART\": \"SA551\",\n",
    "    \"SA551_AUSGLEICHSJAHR\": year,\n",
    "    \"SA551_BERICHTSJAHR\": year,\n",
    "    \"SA551_VSID\": ids,\n",
    "    \"SA551_PSID\": ids,\n",
    "    \"SA551_ENTLASSUNGSMONAT\": str(year) + month,\n",
    "    \"SA551_FALLZAEHLER\": 1,\n",
    "    \"SA551_DIAGNOSE\": icd_codes, # Hat eigentlich Punkt Notation und Sonderzeichen\n",
    "    \"SA551_ICD_CODE\": icd_codes,\n",
    "    \"SA551_ICD_ZUSATZ\": icd_zusatz,\n",
    "    \"SA551_LOKALISATION\": np.array([np.random.choice([0, 1], p=[0.95, 0.05]) for _ in range(n_out)]),\n",
    "    \"SA551_ARTDIAGNOSE\": np.array([np.random.choice([1, 2], p=[0.95, 0.05]) for _ in range(n_out)]),\n",
    "    \"SA551_ARTBEHANDLUNG\": np.array([np.random.choice([0, 1, 2, 3]) for _ in range(n_out)])\n",
    "        }\n",
    "    )\n",
    "\n",
    "    sa551[\"SA551_FALLZAEHLER\"] = sa551.groupby(\"SA551_PSID\")[\"SA551_FALLZAEHLER\"].rank(method =\"first\", ascending = True)\n",
    "    \n",
    "    return sa551"
   ]
  },
  {
   "cell_type": "code",
   "execution_count": 44,
   "metadata": {
    "ExecuteTime": {
     "end_time": "2024-07-08T12:48:30.096258Z",
     "start_time": "2024-07-08T12:48:28.106537Z"
    }
   },
   "outputs": [
    {
     "data": {
      "text/plain": "2000"
     },
     "execution_count": 44,
     "metadata": {},
     "output_type": "execute_result"
    }
   ],
   "source": [
    "sa551 = generate_sa551(n_out=n*2, psid_array=psid_array)\n",
    "\n",
    "sa551.to_csv(\"test_data/csv/sa551.csv\", index=False)\n",
    "sa551.to_sql(\"VBJ2016SA551\", con = conn, if_exists='append', index=False)"
   ]
  },
  {
   "cell_type": "code",
   "execution_count": 45,
   "metadata": {
    "ExecuteTime": {
     "end_time": "2024-07-08T12:48:30.099293Z",
     "start_time": "2024-07-08T12:48:30.096817Z"
    }
   },
   "outputs": [],
   "source": [
    "def generate_sa651(n_out, psid_array, year = 2016):\n",
    "\n",
    "    ids = np.random.choice(psid_array, size = n_out, replace = True)\n",
    "    icd_codes = pd.Series(np.array([np.random.choice(icd.get_all_codes(with_dots = False)) for _ in range(n_out)]), dtype=\"string\")\n",
    "    icd_zusatz = pd.Series([''], dtype=\"string\") # Ist in der realität nicht immer leer\n",
    "    return pd.DataFrame(\n",
    "        {\n",
    "                \"SA651_SATZART\": \"SA651\",\n",
    "    \"SA651_AUSGLEICHSJAHR\": year,\n",
    "    \"SA651_BERICHTSJAHR\": year,\n",
    "    \"SA651_VSID\": ids,\n",
    "    \"SA651_PSID\": ids,\n",
    "    \"SA651_LEISTUNGSQUARTAL\": np.array([np.random.choice(range(1, 4)) for _ in range(n_out)] ),\n",
    "    \"SA651_DIAGNOSE\": icd_codes, # Hat eigentlich Punkt Notation und Sonderzeichen\n",
    "    \"SA651_ICD_CODE\": icd_codes,\n",
    "    \"SA651_ICD_ZUSATZ\": icd_zusatz,\n",
    "    \"SA651_QUALIFIZIERUNG\": np.array([np.random.choice([\"V\", \"Z\", \"A\", \"G\", \"0\"]) for _ in range(n_out)]),\n",
    "    \"SA651_LOKALISATION\": np.array([np.random.choice([0, 1], p=[0.95, 0.05]) for _ in range(n_out)]),\n",
    "    \"SA651_ABRECHNUNGSWEG\": np.array([np.random.choice([1, 2, 3]) for _ in range(n_out)])\n",
    "        }\n",
    "    )"
   ]
  },
  {
   "cell_type": "code",
   "execution_count": 46,
   "metadata": {
    "ExecuteTime": {
     "end_time": "2024-07-08T12:48:54.096922Z",
     "start_time": "2024-07-08T12:48:30.099862Z"
    }
   },
   "outputs": [
    {
     "data": {
      "text/plain": "25000"
     },
     "execution_count": 46,
     "metadata": {},
     "output_type": "execute_result"
    }
   ],
   "source": [
    "sa651 = generate_sa651(n_out=n*25, psid_array=psid_array)\n",
    "\n",
    "sa651.to_csv(\"test_data/csv/sa651.csv\", index=False)\n",
    "sa651.to_sql(\"VBJ2016SA651\", con = conn, if_exists='append', index=False)"
   ]
  },
  {
   "cell_type": "code",
   "execution_count": 47,
   "metadata": {
    "ExecuteTime": {
     "end_time": "2024-07-08T12:48:54.100213Z",
     "start_time": "2024-07-08T12:48:54.097577Z"
    }
   },
   "outputs": [],
   "source": [
    "def generate_sa751(n_out, psid_array, year = 2016):\n",
    "    return pd.DataFrame(\n",
    "        {\n",
    "    \"SA751_SATZART\": \"SA751\",\n",
    "    \"SA751_AUSGLEICHSJAHR\": year,\n",
    "    \"SA751_BERICHTSJAHR\": year,\n",
    "    \"SA751_VSID\": psid_array,\n",
    "    \"SA751_PSID\": psid_array,\n",
    "    \"SA751_AERZTE\": np.array([np.random.randint(low = -100000, high = 100000) for _ in range(n_out)]), # viel zu kleine spanne\n",
    "\t\"SA751_ZAHNAERZTE\": np.array([np.random.randint(low = -100000, high = 100000) for _ in range(n_out)]), # viel zu kleine spanne\n",
    "\t\"SA751_APOTHEKEN\": np.array([np.random.randint(low = -100000, high = 100000) for _ in range(n_out)]), # viel zu kleine spanne\n",
    "\t\"SA751_KRANKENHAEUSER\": np.array([np.random.randint(low = -100000, high = 100000) for _ in range(n_out)]), # viel zu kleine spanne\n",
    "\t\"SA751_SONSTIGELA\": np.array([np.random.randint(low = -100000, high = 100000) for _ in range(n_out)]), # viel zu kleine spanne\n",
    "\t\"SA751_SACHKOSTENDIALYSE\": np.array([np.random.randint(low = -100000, high = 100000) for _ in range(n_out)]), # viel zu kleine spanne\n",
    "\t\"SA751_KRANKENGELD\": np.array([np.random.randint(low = -100000, high = 100000) for _ in range(n_out)]) # viel zu kleine spanne\n",
    "        }\n",
    "    )"
   ]
  },
  {
   "cell_type": "code",
   "execution_count": 48,
   "metadata": {
    "ExecuteTime": {
     "end_time": "2024-07-08T12:48:54.117582Z",
     "start_time": "2024-07-08T12:48:54.100995Z"
    }
   },
   "outputs": [
    {
     "data": {
      "text/plain": "1000"
     },
     "execution_count": 48,
     "metadata": {},
     "output_type": "execute_result"
    }
   ],
   "source": [
    "sa751 = generate_sa751(n_out = n, psid_array=psid_array)\n",
    "\n",
    "sa751.to_csv(\"test_data/csv/sa751.csv\", index=False)\n",
    "sa751.to_sql(\"VBJ2016SA751\", con = conn, if_exists='append', index=False)"
   ]
  },
  {
   "cell_type": "code",
   "execution_count": 49,
   "metadata": {
    "ExecuteTime": {
     "end_time": "2024-07-08T12:48:54.119954Z",
     "start_time": "2024-07-08T12:48:54.118146Z"
    }
   },
   "outputs": [],
   "source": [
    "def generate_sa951(n_out, psid_array, year = 2016):\n",
    "    betriebsnummern = np.array([''.join(random.choices(string.digits, k=8)) for _ in range(50)])\n",
    "             \n",
    "    return pd.DataFrame(\n",
    "        {\n",
    "    \"SA951_SATZART\": \"SA951\",\n",
    "    \"SA951_AUSGLEICHSJAHR\": year,\n",
    "    \"SA951_BERICHTSJAHR\": year,\n",
    "    \"SA951_VSID\": psid_array,\n",
    "    \"SA951_PSID\": psid_array,\n",
    "    \"SA951_BETRIEBSNUMMER\": np.random.choice(betriebsnummern, size = n_out, replace = True)\n",
    "        }\n",
    "    )"
   ]
  },
  {
   "cell_type": "code",
   "execution_count": 50,
   "metadata": {
    "ExecuteTime": {
     "end_time": "2024-07-08T12:48:54.128657Z",
     "start_time": "2024-07-08T12:48:54.120475Z"
    }
   },
   "outputs": [
    {
     "data": {
      "text/plain": "1000"
     },
     "execution_count": 50,
     "metadata": {},
     "output_type": "execute_result"
    }
   ],
   "source": [
    "sa951 = generate_sa951(n_out = n, psid_array=psid_array)\n",
    "\n",
    "sa951.to_csv(\"test_data/csv/sa951.csv\", index=False)\n",
    "sa951.to_sql(\"VBJ2016SA951\", con = conn, if_exists='append', index=False)"
   ]
  },
  {
   "cell_type": "code",
   "execution_count": 51,
   "metadata": {
    "ExecuteTime": {
     "end_time": "2024-07-08T12:48:54.131083Z",
     "start_time": "2024-07-08T12:48:54.129138Z"
    }
   },
   "outputs": [],
   "source": [
    "def generate_sa131(n_out, psid_array, year = 2016):      \n",
    "    plzs = np.array([''.join(random.choices(string.digits, k=5)) for _ in range(50)])      \n",
    "    return pd.DataFrame(\n",
    "        {\n",
    "    \"SA131_SATZART\": \"SA951\",\n",
    "    \"SA131_AUSGLEICHSJAHR\": year,\n",
    "    \"SA131_BERICHTSJAHR\": year,\n",
    "    \"SA131_VSID\": psid_array,\n",
    "    \"SA131_PSID\": psid_array,\n",
    "    \"SA131_PLZ\": np.random.choice(plzs, size = n_out, replace = True) # Keine Echten PLZs\n",
    "        }\n",
    "    )"
   ]
  },
  {
   "cell_type": "code",
   "execution_count": 52,
   "metadata": {
    "ExecuteTime": {
     "end_time": "2024-07-08T12:48:54.139956Z",
     "start_time": "2024-07-08T12:48:54.131828Z"
    }
   },
   "outputs": [
    {
     "data": {
      "text/plain": "1000"
     },
     "execution_count": 52,
     "metadata": {},
     "output_type": "execute_result"
    }
   ],
   "source": [
    "sa131 = generate_sa131(n_out=n, psid_array=psid_array)\n",
    "\n",
    "sa131.to_csv(\"test_data/csv/sa131.csv\", index=False)\n",
    "sa131.to_sql(\"V2016SA131\", con = conn, if_exists='append', index=False)"
   ]
  },
  {
   "cell_type": "code",
   "execution_count": 53,
   "metadata": {
    "ExecuteTime": {
     "end_time": "2024-07-08T12:48:54.143384Z",
     "start_time": "2024-07-08T12:48:54.142131Z"
    }
   },
   "outputs": [],
   "source": [
    "conn.close()"
   ]
  }
 ],
 "metadata": {
  "kernelspec": {
   "display_name": "Python 3",
   "language": "python",
   "name": "python3"
  },
  "language_info": {
   "codemirror_mode": {
    "name": "ipython",
    "version": 3
   },
   "file_extension": ".py",
   "mimetype": "text/x-python",
   "name": "python",
   "nbconvert_exporter": "python",
   "pygments_lexer": "ipython3",
   "version": "3.10.2"
  }
 },
 "nbformat": 4,
 "nbformat_minor": 2
}
